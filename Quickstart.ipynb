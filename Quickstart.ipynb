{
 "cells": [
  {
   "cell_type": "markdown",
   "id": "678aceb9-2990-4733-b6bd-b72020bf0873",
   "metadata": {},
   "source": [
    "# Using Web3\n",
    "This library depends on a connection to an Ethereum node. We call these connections Providers and there are several ways to configure them. The full details can be found in the Providers documentation. This Quickstart guide will highlight a couple of the most common use cases.\n",
    "\n",
    "### Test Provider\n",
    "If you’re just learning the ropes or doing some quick prototyping, you can use a test provider, eth-tester. This provider includes some accounts prepopulated with test ether and instantly includes each transaction into a block. web3.py makes this test provider available via EthereumTesterProvider.\n",
    "\n",
    "*Note*\n",
    "The EthereumTesterProvider requires additional dependencies. Install them via pip install \"web3[tester]\", then import and instantiate the provider as seen below.\n",
    "\n"
   ]
  },
  {
   "cell_type": "code",
   "execution_count": 6,
   "id": "d3ccb14a-1fbc-4a2e-9c31-138caa5ebb19",
   "metadata": {},
   "outputs": [
    {
     "data": {
      "text/plain": [
       "True"
      ]
     },
     "execution_count": 6,
     "metadata": {},
     "output_type": "execute_result"
    }
   ],
   "source": [
    "from web3 import Web3, EthereumTesterProvider\n",
    "w3 = Web3(EthereumTesterProvider())\n",
    "w3.is_connected()    # True"
   ]
  },
  {
   "cell_type": "markdown",
   "id": "e32759da-4dd9-4701-a78a-5d4cb4dbab67",
   "metadata": {},
   "source": [
    "### Local Providers\n",
    "The hardware requirements are steep, but the safest way to interact with Ethereum is to run an Ethereum client on your own hardware. For locally run nodes, an IPC connection is the most secure option, but HTTP and websocket configurations are also available. By default, the popular Geth client exposes port 8545 to serve HTTP requests and 8546 for websocket requests. Connecting to this local node can be done as follows:"
   ]
  },
  {
   "cell_type": "code",
   "execution_count": 7,
   "id": "b8bb36ed-a0c0-4182-8ce6-6c2354fa2af3",
   "metadata": {},
   "outputs": [
    {
     "data": {
      "text/plain": [
       "True"
      ]
     },
     "execution_count": 7,
     "metadata": {},
     "output_type": "execute_result"
    }
   ],
   "source": [
    "from web3 import Web3, AsyncWeb3\n",
    "\n",
    "# WebsocketProvider:\n",
    "w3 = Web3(Web3.WebsocketProvider('wss://127.0.0.1:8546'))\n",
    "\n",
    "# HTTPProvider:\n",
    "w3 = Web3(Web3.HTTPProvider('http://127.0.0.1:8545'))\n",
    "\n",
    "# AsyncHTTPProvider:\n",
    "w3 = AsyncWeb3(AsyncWeb3.AsyncHTTPProvider('http://127.0.0.1:8545'))\n",
    "# await w3.is_connected() # True\n",
    "\n",
    "# IPCProvider:\n",
    "w3 = Web3(Web3.IPCProvider('/Users/carlek/privatechain/geth.ipc'))\n",
    "w3.is_connected()  # True"
   ]
  },
  {
   "cell_type": "markdown",
   "id": "99eaf1f0-e796-49e7-8c29-f2509b1f2f4f",
   "metadata": {},
   "source": [
    "## Remote Providers\n",
    "The quickest way to interact with the Ethereum blockchain is to use a remote node provider. You can connect to a remote node by specifying the endpoint, just like the previous local node example:"
   ]
  },
  {
   "cell_type": "code",
   "execution_count": 8,
   "id": "57f63712-60ea-469c-9f6c-f35a4877d46d",
   "metadata": {},
   "outputs": [
    {
     "name": "stderr",
     "output_type": "stream",
     "text": [
      "/Users/carlek/.pyenv/versions/3.11.4/lib/python3.11/inspect.py:3174: ResourceWarning: unclosed <socket.socket fd=80, family=1, type=1, proto=0, raddr=/Users/carlek/privatechain/geth.ipc>\n",
      "  arg_val = kwargs.pop(param_name)\n",
      "ResourceWarning: Enable tracemalloc to get the object allocation traceback\n"
     ]
    }
   ],
   "source": [
    "from web3 import Web3, AsyncWeb3\n",
    "w3 = Web3(Web3.HTTPProvider('https://<your-provider-url>'))\n",
    "w3 = AsyncWeb3(AsyncWeb3.AsyncHTTPProvider('https://<your-provider-url>'))\n",
    "w3 = Web3(Web3.WebsocketProvider('wss://<your-provider-url>'))"
   ]
  },
  {
   "cell_type": "markdown",
   "id": "465c4045-524f-42d2-80ca-8a9bcd64e62c",
   "metadata": {},
   "source": [
    "### Getting Blockchain Info\n",
    "It’s time to start using web3.py! Once properly configured, the w3 instance will allow you to interact with the Ethereum blockchain. Try getting all the information about the latest block:"
   ]
  },
  {
   "cell_type": "code",
   "execution_count": 9,
   "id": "c1d231ac-a8f0-4433-b632-1a5a89e9fa1c",
   "metadata": {},
   "outputs": [
    {
     "data": {
      "text/plain": [
       "AttributeDict({'difficulty': 17179869184,\n",
       " 'extraData': HexBytes('0x11bbe8db4e347b4e8c937c1c8370e4b5ed33adb3db69cbdb7a38e1e50b1b82fa'),\n",
       " 'gasLimit': 5000,\n",
       " 'gasUsed': 0,\n",
       " 'hash': HexBytes('0xd4e56740f876aef8c010b86a40d5f56745a118d0906a34e69aec8c0db1cb8fa3'),\n",
       " 'logsBloom': HexBytes('0x00000000000000000000000000000000000000000000000000000000000000000000000000000000000000000000000000000000000000000000000000000000000000000000000000000000000000000000000000000000000000000000000000000000000000000000000000000000000000000000000000000000000000000000000000000000000000000000000000000000000000000000000000000000000000000000000000000000000000000000000000000000000000000000000000000000000000000000000000000000000000000000000000000000000000000000000000000000000000000000000000000000000000000000000000000000'),\n",
       " 'miner': '0x0000000000000000000000000000000000000000',\n",
       " 'mixHash': HexBytes('0x0000000000000000000000000000000000000000000000000000000000000000'),\n",
       " 'nonce': HexBytes('0x0000000000000042'),\n",
       " 'number': 0,\n",
       " 'parentHash': HexBytes('0x0000000000000000000000000000000000000000000000000000000000000000'),\n",
       " 'receiptsRoot': HexBytes('0x56e81f171bcc55a6ff8345e692c0f86e5b48e01b996cadc001622fb5e363b421'),\n",
       " 'sha3Uncles': HexBytes('0x1dcc4de8dec75d7aab85b567b6ccd41ad312451b948a7413f0a142fd40d49347'),\n",
       " 'size': 540,\n",
       " 'stateRoot': HexBytes('0xd7f8974fb5ac78d9ac099b9ad5018bedc2ce0a72dad1827a1709da30580f0544'),\n",
       " 'timestamp': 0,\n",
       " 'totalDifficulty': 17179869184,\n",
       " 'transactions': [],\n",
       " 'transactionsRoot': HexBytes('0x56e81f171bcc55a6ff8345e692c0f86e5b48e01b996cadc001622fb5e363b421'),\n",
       " 'uncles': []})"
      ]
     },
     "execution_count": 9,
     "metadata": {},
     "output_type": "execute_result"
    }
   ],
   "source": [
    "w3 = Web3(Web3.IPCProvider('/Users/carlek/privatechain/geth.ipc'))\n",
    "w3.eth.get_block('latest')"
   ]
  },
  {
   "cell_type": "code",
   "execution_count": null,
   "id": "42834336-12d8-414a-9c6f-07f576d3803a",
   "metadata": {},
   "outputs": [],
   "source": []
  }
 ],
 "metadata": {
  "kernelspec": {
   "display_name": "Python 3 (ipykernel)",
   "language": "python",
   "name": "python3"
  },
  "language_info": {
   "codemirror_mode": {
    "name": "ipython",
    "version": 3
   },
   "file_extension": ".py",
   "mimetype": "text/x-python",
   "name": "python",
   "nbconvert_exporter": "python",
   "pygments_lexer": "ipython3",
   "version": "3.11.4"
  }
 },
 "nbformat": 4,
 "nbformat_minor": 5
}
