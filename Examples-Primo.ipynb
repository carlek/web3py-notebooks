{
 "cells": [
  {
   "cell_type": "markdown",
   "id": "fb58fb2c-734f-4bfc-9dd1-1a0fca3a5b18",
   "metadata": {},
   "source": [
    "# Examples 'Primo'\n",
    "\n",
    "### Looking up blocks\n",
    "Blocks can be looked up by either their number or hash using the web3.eth.get_block API. \n",
    "Block hashes should be in their hexadecimal representation."
   ]
  },
  {
   "cell_type": "code",
   "execution_count": 1,
   "id": "e8de02f9-43c7-458d-be45-1faa19003135",
   "metadata": {},
   "outputs": [
    {
     "data": {
      "text/plain": [
       "AttributeDict({'difficulty': 17179869184,\n",
       " 'extraData': HexBytes('0x11bbe8db4e347b4e8c937c1c8370e4b5ed33adb3db69cbdb7a38e1e50b1b82fa'),\n",
       " 'gasLimit': 5000,\n",
       " 'gasUsed': 0,\n",
       " 'hash': HexBytes('0xd4e56740f876aef8c010b86a40d5f56745a118d0906a34e69aec8c0db1cb8fa3'),\n",
       " 'logsBloom': HexBytes('0x00000000000000000000000000000000000000000000000000000000000000000000000000000000000000000000000000000000000000000000000000000000000000000000000000000000000000000000000000000000000000000000000000000000000000000000000000000000000000000000000000000000000000000000000000000000000000000000000000000000000000000000000000000000000000000000000000000000000000000000000000000000000000000000000000000000000000000000000000000000000000000000000000000000000000000000000000000000000000000000000000000000000000000000000000000000'),\n",
       " 'miner': '0x0000000000000000000000000000000000000000',\n",
       " 'mixHash': HexBytes('0x0000000000000000000000000000000000000000000000000000000000000000'),\n",
       " 'nonce': HexBytes('0x0000000000000042'),\n",
       " 'number': 0,\n",
       " 'parentHash': HexBytes('0x0000000000000000000000000000000000000000000000000000000000000000'),\n",
       " 'receiptsRoot': HexBytes('0x56e81f171bcc55a6ff8345e692c0f86e5b48e01b996cadc001622fb5e363b421'),\n",
       " 'sha3Uncles': HexBytes('0x1dcc4de8dec75d7aab85b567b6ccd41ad312451b948a7413f0a142fd40d49347'),\n",
       " 'size': 540,\n",
       " 'stateRoot': HexBytes('0xd7f8974fb5ac78d9ac099b9ad5018bedc2ce0a72dad1827a1709da30580f0544'),\n",
       " 'timestamp': 0,\n",
       " 'totalDifficulty': 17179869184,\n",
       " 'transactions': [],\n",
       " 'transactionsRoot': HexBytes('0x56e81f171bcc55a6ff8345e692c0f86e5b48e01b996cadc001622fb5e363b421'),\n",
       " 'uncles': []})"
      ]
     },
     "execution_count": 1,
     "metadata": {},
     "output_type": "execute_result"
    }
   ],
   "source": [
    "from web3 import Web3, EthereumTesterProvider\n",
    "w3 = Web3(Web3.IPCProvider('/Users/carlek/privatechain/geth.ipc'))\n",
    "w3.eth.get_block(0)"
   ]
  },
  {
   "cell_type": "code",
   "execution_count": 2,
   "id": "438acd3b-79b3-422d-9299-ee6e043d6d30",
   "metadata": {},
   "outputs": [
    {
     "data": {
      "text/plain": [
       "AttributeDict({'number': 0,\n",
       " 'hash': HexBytes('0x75f46f51526c4a14eec4ae2f4d83a792f864d3d454b9bbaccdffe538e3f4556b'),\n",
       " 'parentHash': HexBytes('0x0000000000000000000000000000000000000000000000000000000000000000'),\n",
       " 'nonce': HexBytes('0x0000000000000000'),\n",
       " 'sha3Uncles': HexBytes('0x1dcc4de8dec75d7aab85b567b6ccd41ad312451b948a7413f0a142fd40d49347'),\n",
       " 'logsBloom': HexBytes('0x00'),\n",
       " 'transactionsRoot': HexBytes('0x56e81f171bcc55a6ff8345e692c0f86e5b48e01b996cadc001622fb5e363b421'),\n",
       " 'receiptsRoot': HexBytes('0x56e81f171bcc55a6ff8345e692c0f86e5b48e01b996cadc001622fb5e363b421'),\n",
       " 'stateRoot': HexBytes('0xf1588db9a9f1ed91effabdec31f93cb4212b008c8b8ba047fd55fabebf6fd727'),\n",
       " 'miner': '0x0000000000000000000000000000000000000000',\n",
       " 'difficulty': 0,\n",
       " 'totalDifficulty': 0,\n",
       " 'mixHash': HexBytes('0x0000000000000000000000000000000000000000000000000000000000000000'),\n",
       " 'size': 548,\n",
       " 'extraData': HexBytes('0x0000000000000000000000000000000000000000000000000000000000000000'),\n",
       " 'gasLimit': 30029122,\n",
       " 'gasUsed': 0,\n",
       " 'timestamp': 1696714932,\n",
       " 'transactions': [],\n",
       " 'uncles': [],\n",
       " 'baseFeePerGas': 1000000000,\n",
       " 'withdrawals': [],\n",
       " 'withdrawalsRoot': HexBytes('0x56e81f171bcc55a6ff8345e692c0f86e5b48e01b996cadc001622fb5e363b421')})"
      ]
     },
     "execution_count": 2,
     "metadata": {},
     "output_type": "execute_result"
    }
   ],
   "source": [
    "from web3 import EthereumTesterProvider\n",
    "w3 = Web3(EthereumTesterProvider()) \n",
    "w3.eth.get_block(0)"
   ]
  },
  {
   "cell_type": "markdown",
   "id": "1eceb35a-991e-43fc-9c81-6816233e4530",
   "metadata": {},
   "source": [
    "### Retrieve block info\n",
    "Get the latest block and extract various details: \n",
    "its number, hash, timestamp, number of transactions, and parent hash."
   ]
  },
  {
   "cell_type": "code",
   "execution_count": 3,
   "id": "8bc91da8-4221-4cb5-9c0a-e99c7350d4a7",
   "metadata": {},
   "outputs": [
    {
     "name": "stdout",
     "output_type": "stream",
     "text": [
      "Block Number: 18301362\n",
      "Hash: b'O\\xba\\xa7\\xb3a\\x04\\x81O?\\xbb:\\x7f\\xb4\\xe6\\\\\\x95\\x84\\xb9oh\\xa7\\xca*$z?\\x94h\\x96\\x95w\\xd5'\n",
      "Timestamp: 1696714931\n",
      "Number of Transactions: 172\n",
      "Parent Hash: b'\\xfd\\x9e\\xab\\xaaF\\xb3}ir\\x90b\\xc7@g 8,\\x0e\\xffB \\xf0\\x82\\xa3\\xa4\\x7f\\x92\\x90P\\xe2\\xd1\\x1b'\n"
     ]
    }
   ],
   "source": [
    "from web3 import Web3\n",
    "from decouple import Config, RepositoryEnv\n",
    "import os\n",
    "                \n",
    "# get an Infura project id here: https://infura.io/ \n",
    "# .env file holds the stuff\n",
    "env_dir = os.path.dirname(os.path.abspath(\"__file__\"))\n",
    "config = Config(RepositoryEnv(f\"{env_dir}/.env\"))\n",
    "\n",
    "infura_project_id = config('INFURA_PROJECT_ID')\n",
    "infura_url = f'https://mainnet.infura.io/v3/{infura_project_id}'\n",
    "\n",
    "# Create a Web3 instance\n",
    "w3 = Web3(Web3.HTTPProvider(infura_url))\n",
    "\n",
    "def get_latest_block():\n",
    "    # Get the latest block number\n",
    "    block_number = w3.eth.block_number\n",
    "\t\n",
    "    # Get the latest block details\n",
    "    return w3.eth.get_block(block_number)\n",
    "\n",
    "if __name__ == \"__main__\":\n",
    "    latest_block = get_latest_block()\n",
    "\n",
    "    print(f\"Block Number: {latest_block['number']}\")\n",
    "    print(f\"Hash: {latest_block['hash']}\")\n",
    "    print(f\"Timestamp: {latest_block['timestamp']}\")\n",
    "    print(f\"Number of Transactions: {len(latest_block['transactions'])}\")\n",
    "    print(f\"Parent Hash: {latest_block['parentHash']}\")\n"
   ]
  },
  {
   "cell_type": "markdown",
   "id": "a65623f1-214c-4dee-8cfd-d0bfd0468a82",
   "metadata": {},
   "source": [
    "### Check the balance of an account\n",
    "To find the amount of ether owned by an account, use the get_balance() method. <br> At the time of writing, the account with the [most ether](https://etherscan.io/accounts/1) has a public address of `0x00000000219ab540356cBB839Cbe05303d7705Fa`"
   ]
  },
  {
   "cell_type": "code",
   "execution_count": 4,
   "id": "a0dfc3e2-80a3-419c-ac07-8a084f05c403",
   "metadata": {},
   "outputs": [
    {
     "name": "stdout",
     "output_type": "stream",
     "text": [
      "30761200264999839958004578\n"
     ]
    }
   ],
   "source": [
    "# setup the infura http provider\n",
    "env_dir = os.path.dirname(os.path.abspath(\"__file__\"))\n",
    "config = Config(RepositoryEnv(f\"{env_dir}/.env\"))\n",
    "infura_project_id = config('INFURA_PROJECT_ID')\n",
    "infura_url = f'https://mainnet.infura.io/v3/{infura_project_id}'\n",
    "w3 = Web3(Web3.HTTPProvider(infura_url))\n",
    "\n",
    "address = w3.to_checksum_address('0x00000000219ab540356cBB839Cbe05303d7705Fa')\n",
    "print(w3.eth.get_balance(address))"
   ]
  },
  {
   "cell_type": "markdown",
   "id": "387332fa-b86e-4056-8bdf-1a1f982c125e",
   "metadata": {},
   "source": [
    "### Currency Conversion\n",
    "In the previous example, the largest account balance was given in wei. You can use the from_wei() method to convert that balance to ether (or another denomination). It is a decimal value. The decimal value can be converted back to wei."
   ]
  },
  {
   "cell_type": "code",
   "execution_count": 5,
   "id": "8563042d-37fb-48be-b003-670816613ccb",
   "metadata": {},
   "outputs": [
    {
     "data": {
      "text/plain": [
       "Decimal('30760818.264999839958004578')"
      ]
     },
     "execution_count": 5,
     "metadata": {},
     "output_type": "execute_result"
    }
   ],
   "source": [
    "decimal_value = w3.from_wei(w3.eth.get_balance(address), 'ether')\n",
    "decimal_value"
   ]
  },
  {
   "cell_type": "code",
   "execution_count": 6,
   "id": "ff9f4309-d143-4b35-88dd-ac8faaa5700b",
   "metadata": {},
   "outputs": [
    {
     "data": {
      "text/plain": [
       "30760818264999839958004578"
      ]
     },
     "execution_count": 6,
     "metadata": {},
     "output_type": "execute_result"
    }
   ],
   "source": [
    "w3.to_wei(decimal_value, 'ether')"
   ]
  },
  {
   "cell_type": "markdown",
   "id": "4d66ada1-cab9-4c1d-8ced-b495b78fc391",
   "metadata": {},
   "source": [
    "### Sending Transactions\n",
    "Using eth-tester (via EthereumTesterProvider) gives convenience conveying ideas/building a proof of concept. <br>Transactions sent by test accounts are auto-signed.  Here's an example:"
   ]
  },
  {
   "cell_type": "code",
   "execution_count": 5,
   "id": "1fee1166-e7c9-42af-a1ed-f8235d7d30d1",
   "metadata": {},
   "outputs": [
    {
     "name": "stdout",
     "output_type": "stream",
     "text": [
      "{ 'accessList': [],\n",
      "  'blockHash': HexBytes('0xc43857070c90e879c77e488085552d2bf70bad23c4ff161ed60a6feb0b21aae7'),\n",
      "  'blockNumber': 1,\n",
      "  'chainId': 131277322940537,\n",
      "  'data': '0x',\n",
      "  'from': '0x7E5F4552091A69125d5DfCb7b8C2659029395Bdf',\n",
      "  'gas': 121000,\n",
      "  'gasPrice': 1000000000,\n",
      "  'hash': HexBytes('0x07753e07132115df2daf28e2103c955335017b5761647b59e2bee9d6078fd1df'),\n",
      "  'maxFeePerGas': 1000000000,\n",
      "  'maxPriorityFeePerGas': 1000000000,\n",
      "  'nonce': 0,\n",
      "  'r': HexBytes('0x1e35b554dd763a39135756602bb8ac64e4219b32fba4831b9828c318dbe40e09'),\n",
      "  's': HexBytes('0x7c65b5018881f656da8738a5fd26b74241227837a0a7b2a825b35e35763a888e'),\n",
      "  'to': '0x0000000000000000000000000000000000000000',\n",
      "  'transactionIndex': 0,\n",
      "  'type': 2,\n",
      "  'v': 0,\n",
      "  'value': 123123123123123}\n"
     ]
    }
   ],
   "source": [
    "from hexbytes import HexBytes\n",
    "from web3 import Web3, EthereumTesterProvider\n",
    "from pprint import pprint\n",
    "\n",
    "w3 = Web3(EthereumTesterProvider())\n",
    "\n",
    "# eth-tester populates accounts with test ether:\n",
    "acct1 = w3.eth.accounts[0]\n",
    "\n",
    "some_address = \"0x0000000000000000000000000000000000000000\"\n",
    "\n",
    "# when using one of its generated test accounts,\n",
    "# eth-tester signs the tx (under the hood) before sending:\n",
    "tx_hash = w3.eth.send_transaction({\n",
    "    \"from\": acct1,\n",
    "    \"to\": some_address,\n",
    "    \"value\": 123123123123123\n",
    "})\n",
    "tx = w3.eth.get_transaction(tx_hash)\n",
    "assert tx[\"from\"] == acct1\n",
    "transaction = w3.eth.get_transaction(tx['hash'])\n",
    "assert transaction == tx\n",
    "pprint(dict(tx), indent=2)"
   ]
  },
  {
   "cell_type": "markdown",
   "id": "aa9695e0-a0e1-4c15-8a64-3608ef627c53",
   "metadata": {},
   "source": [
    "### Retrieving Receipts\n",
    "Transaction receipts can be retrieved using `web3.eth.get_transaction_receipt`"
   ]
  },
  {
   "cell_type": "code",
   "execution_count": 6,
   "id": "c45edeb5-9af9-41b8-9e8f-c5bd51a5f2c3",
   "metadata": {},
   "outputs": [
    {
     "name": "stdout",
     "output_type": "stream",
     "text": [
      "{ 'blockHash': HexBytes('0xc43857070c90e879c77e488085552d2bf70bad23c4ff161ed60a6feb0b21aae7'),\n",
      "  'blockNumber': 1,\n",
      "  'contractAddress': None,\n",
      "  'cumulativeGasUsed': 21000,\n",
      "  'effectiveGasPrice': 1000000000,\n",
      "  'from': '0x7E5F4552091A69125d5DfCb7b8C2659029395Bdf',\n",
      "  'gasUsed': 21000,\n",
      "  'logs': [],\n",
      "  'state_root': b'\\x01',\n",
      "  'status': 1,\n",
      "  'to': '0x0000000000000000000000000000000000000000',\n",
      "  'transactionHash': HexBytes('0x07753e07132115df2daf28e2103c955335017b5761647b59e2bee9d6078fd1df'),\n",
      "  'transactionIndex': 0,\n",
      "  'type': 2}\n"
     ]
    }
   ],
   "source": [
    "receipt = w3.eth.get_transaction_receipt(transaction['hash'])\n",
    "assert receipt['from'] == transaction['from']\n",
    "pprint(dict(receipt), indent=2)"
   ]
  },
  {
   "cell_type": "markdown",
   "id": "b9b54942-0f25-46ec-bec6-6a87b14d321b",
   "metadata": {},
   "source": [
    "### Deploying New Contracts\n",
    "\n",
    "This source is in `contract.sol`\n",
    "```\n",
    "contract StoreVar {\n",
    "    uint8 public _myVar;\n",
    "    event MyEvent(uint indexed _var);\n",
    "\n",
    "    function setVar(uint8 _var) public {\n",
    "        _myVar = _var;\n",
    "        emit MyEvent(_var);\n",
    "    }\n",
    "    function getVar() public view returns (uint8) {\n",
    "        return _myVar;\n",
    "    }\n",
    "}\n",
    "```\n",
    "The following example performs the following:\n",
    "\n",
    "1. Compiles the contract from the .sol file.\n",
    "1. Estimates gas costs of the transaction.\n",
    "1. Transacts with the contract's function.\n",
    "1. Waits for the transaction receipt to be mined."
   ]
  },
  {
   "cell_type": "code",
   "execution_count": 7,
   "id": "bd3137a6-1c68-4f25-b92e-7753727b7bdb",
   "metadata": {},
   "outputs": [
    {
     "name": "stdout",
     "output_type": "stream",
     "text": [
      "Deployed <stdin>:StoreVar to: 0xF2E246BB76DF876Cef8b38ae84130F4F55De395b\n",
      "\n",
      "Gas estimate to transact with setVar: 50480\n",
      "Sending transaction to setVar(255)\n",
      "\n",
      "Transaction receipt mined:\n",
      "{'blockHash': HexBytes('0x46adda69de7147c61f6b8dc81eec7d6c35e574cfb4e0764320a3efbe0971d88d'),\n",
      " 'blockNumber': 2,\n",
      " 'contractAddress': None,\n",
      " 'cumulativeGasUsed': 44960,\n",
      " 'effectiveGasPrice': 1000000000,\n",
      " 'from': '0x7E5F4552091A69125d5DfCb7b8C2659029395Bdf',\n",
      " 'gasUsed': 44960,\n",
      " 'logs': [AttributeDict({'type': 'mined', 'logIndex': 0, 'transactionIndex': 0, 'transactionHash': HexBytes('0x1bb6e9660c46d5b40247ca1ce7ea85bbba93c56dfd19380c0cc3433abc33af4d'), 'blockHash': HexBytes('0x46adda69de7147c61f6b8dc81eec7d6c35e574cfb4e0764320a3efbe0971d88d'), 'blockNumber': 2, 'address': '0xF2E246BB76DF876Cef8b38ae84130F4F55De395b', 'data': HexBytes('0x'), 'topics': [HexBytes('0x6c2b4666ba8da5a95717621d879a77de725f3d816709b9cbe9f059b8f875e284'), HexBytes('0x00000000000000000000000000000000000000000000000000000000000000ff')]})],\n",
      " 'state_root': b'\\x01',\n",
      " 'status': 1,\n",
      " 'to': '0xF2E246BB76DF876Cef8b38ae84130F4F55De395b',\n",
      " 'transactionHash': HexBytes('0x1bb6e9660c46d5b40247ca1ce7ea85bbba93c56dfd19380c0cc3433abc33af4d'),\n",
      " 'transactionIndex': 0,\n",
      " 'type': 2}\n",
      "\n",
      "Was transaction successful?\n",
      " 😃 Yes!\n"
     ]
    }
   ],
   "source": [
    "from web3.providers.eth_tester import EthereumTesterProvider\n",
    "from eth_tester import PyEVMBackend\n",
    "from web3 import Web3\n",
    "from solcx import compile_source\n",
    "import pprint\n",
    "\n",
    "def compile_source_file(file_path):\n",
    "\twith open(file_path, 'r') as f:\n",
    "\t\tsource = f.read()\n",
    "\n",
    "\treturn compile_source(source, output_values=['abi', 'bin'])\n",
    "\n",
    "def deploy_contract(w3, contract_interface):\n",
    "\ttx_hash = w3.eth.contract(\n",
    "\t\tabi=contract_interface['abi'],\n",
    "\t\tbytecode=contract_interface['bin']).constructor().transact()\n",
    "\n",
    "\taddress = w3.eth.get_transaction_receipt(tx_hash)['contractAddress']\n",
    "\treturn address\n",
    "\n",
    "w3 = Web3(EthereumTesterProvider(PyEVMBackend()))\n",
    "\n",
    "contract_source_path = 'contract.sol'\n",
    "compiled_sol = compile_source_file(contract_source_path)\n",
    "contract_id, contract_interface = compiled_sol.popitem()\n",
    "address = deploy_contract(w3, contract_interface)\n",
    "print(f'Deployed {contract_id} to: {address}\\n')\n",
    "\n",
    "store_var_contract = w3.eth.contract(address=address, abi=contract_interface[\"abi\"])\n",
    "gas_estimate = store_var_contract.functions.setVar(255).estimate_gas()\n",
    "print(f'Gas estimate to transact with setVar: {gas_estimate}')\n",
    "\n",
    "if gas_estimate < 100000:\n",
    "\tprint(\"Sending transaction to setVar(255)\\n\")\n",
    "\ttx_hash = store_var_contract.functions.setVar(255).transact()\n",
    "\treceipt = w3.eth.wait_for_transaction_receipt(tx_hash)\n",
    "\tprint(\"Transaction receipt mined:\")\n",
    "\tpprint.pprint(dict(receipt))\n",
    "\tprint(\"\\nWas transaction successful?\")\n",
    "\tprint(\" 😃 Yes!\") if receipt[\"status\"] == 1 else print(\"...NO...😢\")\n",
    "else:\n",
    "\tprint(\"Gas cost exceeds 100000\")\n",
    "\n"
   ]
  },
  {
   "cell_type": "code",
   "execution_count": null,
   "id": "d4e93e21-1426-4732-a2e1-c0caaf4985dd",
   "metadata": {},
   "outputs": [],
   "source": []
  },
  {
   "cell_type": "code",
   "execution_count": null,
   "id": "37b88e5f-edb7-473f-bf86-ba0f64bc3266",
   "metadata": {},
   "outputs": [],
   "source": []
  }
 ],
 "metadata": {
  "kernelspec": {
   "display_name": "Python 3 (ipykernel)",
   "language": "python",
   "name": "python3"
  },
  "language_info": {
   "codemirror_mode": {
    "name": "ipython",
    "version": 3
   },
   "file_extension": ".py",
   "mimetype": "text/x-python",
   "name": "python",
   "nbconvert_exporter": "python",
   "pygments_lexer": "ipython3",
   "version": "3.11.4"
  }
 },
 "nbformat": 4,
 "nbformat_minor": 5
}
